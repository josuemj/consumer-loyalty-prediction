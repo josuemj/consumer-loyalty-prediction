{
 "cells": [
  {
   "cell_type": "code",
   "execution_count": 2,
   "id": "3c3b8273",
   "metadata": {},
   "outputs": [
    {
     "name": "stdout",
     "output_type": "stream",
     "text": [
      "   user_id  age_range  gender  merchant_id  label  \\\n",
      "0   163968        0.0     0.0         4378   -1.0   \n",
      "1   163968        0.0     0.0         2300   -1.0   \n",
      "2   163968        0.0     0.0         1551   -1.0   \n",
      "3   163968        0.0     0.0         4343   -1.0   \n",
      "4   163968        0.0     0.0         4911   -1.0   \n",
      "\n",
      "                                        activity_log  \n",
      "0                             101206:812:6968:0614:0  \n",
      "1  588758:844:3833:0618:0#71782:844:3833:1111:2#7...  \n",
      "2  312747:243:1954:0627:0#312747:243:1954:0627:0#...  \n",
      "3                            932390:1612:3201:0628:0  \n",
      "4                             957657:662:3089:0612:0  \n"
     ]
    }
   ],
   "source": [
    "import pandas as pd\n",
    "data = pd.read_csv('data/test_format2.csv')\n",
    "# This took 12.5 seconds to run on my laptop\n",
    "print(data.head())"
   ]
  }
 ],
 "metadata": {
  "kernelspec": {
   "display_name": "Python 3",
   "language": "python",
   "name": "python3"
  },
  "language_info": {
   "codemirror_mode": {
    "name": "ipython",
    "version": 3
   },
   "file_extension": ".py",
   "mimetype": "text/x-python",
   "name": "python",
   "nbconvert_exporter": "python",
   "pygments_lexer": "ipython3",
   "version": "3.13.1"
  }
 },
 "nbformat": 4,
 "nbformat_minor": 5
}
