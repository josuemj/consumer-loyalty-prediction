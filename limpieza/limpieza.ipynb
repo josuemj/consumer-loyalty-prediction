{
 "cells": [
  {
   "cell_type": "markdown",
   "id": "75fea373",
   "metadata": {},
   "source": [
    "# Proceo de Limpieza"
   ]
  },
  {
   "cell_type": "code",
   "execution_count": null,
   "id": "cf70d0db",
   "metadata": {},
   "outputs": [],
   "source": [
    "# imports\n",
    "import pandas as pd"
   ]
  },
  {
   "cell_type": "code",
   "execution_count": 4,
   "id": "a100c81e",
   "metadata": {},
   "outputs": [],
   "source": [
    "data_test = pd.read_csv('../data/test_format2.csv')\n",
    "data_train = pd.read_csv('../data/train_format2.csv')\n",
    "\n",
    "# La limpieza de datos se realiza en ambos datasets"
   ]
  }
 ],
 "metadata": {
  "kernelspec": {
   "display_name": "Python 3",
   "language": "python",
   "name": "python3"
  },
  "language_info": {
   "codemirror_mode": {
    "name": "ipython",
    "version": 3
   },
   "file_extension": ".py",
   "mimetype": "text/x-python",
   "name": "python",
   "nbconvert_exporter": "python",
   "pygments_lexer": "ipython3",
   "version": "3.13.1"
  }
 },
 "nbformat": 4,
 "nbformat_minor": 5
}
